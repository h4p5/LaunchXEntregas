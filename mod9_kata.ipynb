{
 "cells": [
  {
   "cell_type": "markdown",
   "metadata": {},
   "source": [
    "## Ejercicio de funciones en Python"
   ]
  },
  {
   "cell_type": "code",
   "execution_count": 13,
   "metadata": {},
   "outputs": [
    {
     "name": "stdout",
     "output_type": "stream",
     "text": [
      "El promedio de combustible en los 4 tanques es: 5.25\n",
      "3.5\n"
     ]
    }
   ],
   "source": [
    "def informe(*args):\n",
    "    return f\"El promedio de combustible en los {len(args)} tanques es: {promedio(*args)}\"\n",
    "\n",
    "def promedio(*args):\n",
    "    return sum(args)/len(args)\n",
    "\n",
    "print(informe(3,3,3,12))\n",
    "print(promedio(5,2))"
   ]
  },
  {
   "cell_type": "markdown",
   "metadata": {},
   "source": [
    "## Ejercicio 2 - Argumentos con palabras clave"
   ]
  },
  {
   "cell_type": "code",
   "execution_count": 21,
   "metadata": {},
   "outputs": [
    {
     "name": "stdout",
     "output_type": "stream",
     "text": [
      "\n",
      "    El destino de la misión es: Moon\n",
      "    El tiempo total de vuelo es de: 74\n",
      "    Los tanques tienen un total de: 50000 L\n",
      "\t\tmain tiene 30000 L\n",
      "\t\texternal tiene 20000 L\n",
      "\n"
     ]
    }
   ],
   "source": [
    "# Función con un informe preciso de la misión. Considera hora de prelanzamiento, tiempo de vuelo, destino, tanque externo y tanque interno\n",
    "\n",
    "def ship(prelanzamiento, tVuelo, destino, tanqueEx, tanqueInt):\n",
    "    return f\"\"\"El destino de la misión es: {destino}\n",
    "    El tiempo total de vuelo es de: {tVuelo + prelanzamiento}\n",
    "    Los tanques tienen un total de: {tanqueEx + tanqueInt} L\"\"\"\n",
    "\n",
    "def ship2(destino, *minutes, **fuel_reservoirs):\n",
    "    return f\"\"\"El destino de la misión es: {destino}\n",
    "    El tiempo total de vuelo es de: {sum(minutes)}\n",
    "    Los tanques tienen un total de: {sum(fuel_reservoirs.values())} L\"\"\"\n",
    "\n",
    "def ship3(destino, *minutes, **fuel_reservoirs):\n",
    "    informe = f\"\"\"\n",
    "    El destino de la misión es: {destino}\n",
    "    El tiempo total de vuelo es de: {sum(minutes)}\n",
    "    Los tanques tienen un total de: {sum(fuel_reservoirs.values())} L\\n\"\"\"\n",
    "    for tanque, litros in fuel_reservoirs.items():\n",
    "        informe += f\"\"\"\\t\\t{tanque} tiene {litros} L\\n\"\"\"\n",
    "    return informe\n",
    "\n",
    "print(ship3(\"Moon\", 8, 11, 55, main=30000, external=20000))"
   ]
  }
 ],
 "metadata": {
  "interpreter": {
   "hash": "b89b5cfaba6639976dc87ff2fec6d58faec662063367e2c229c520fe71072417"
  },
  "kernelspec": {
   "display_name": "Python 3.10.2 64-bit",
   "language": "python",
   "name": "python3"
  },
  "language_info": {
   "codemirror_mode": {
    "name": "ipython",
    "version": 3
   },
   "file_extension": ".py",
   "mimetype": "text/x-python",
   "name": "python",
   "nbconvert_exporter": "python",
   "pygments_lexer": "ipython3",
   "version": "3.10.2"
  },
  "orig_nbformat": 4
 },
 "nbformat": 4,
 "nbformat_minor": 2
}
