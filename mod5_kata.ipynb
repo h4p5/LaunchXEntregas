{
 "cells": [
  {
   "cell_type": "markdown",
   "metadata": {},
   "source": [
    "## Ejercicio 1 - Utilizar operadores aritméticos"
   ]
  },
  {
   "cell_type": "code",
   "execution_count": 3,
   "metadata": {},
   "outputs": [
    {
     "name": "stdout",
     "output_type": "stream",
     "text": [
      "628949330\n",
      "390577534\n"
     ]
    }
   ],
   "source": [
    "dTierra = 149597870 #km\n",
    "dJupiter = 778547200 #km\n",
    "\n",
    "distancekm = abs(dJupiter - dTierra) #km\n",
    "distancemile = round(distancekm * 0.621) #miles\n",
    "\n",
    "print(distancekm)\n",
    "print(distancemile)"
   ]
  },
  {
   "cell_type": "markdown",
   "metadata": {},
   "source": [
    "## Ejercicio 2 - Cadenas en números y valor absoluto"
   ]
  },
  {
   "cell_type": "code",
   "execution_count": 5,
   "metadata": {},
   "outputs": [
    {
     "name": "stdout",
     "output_type": "stream",
     "text": [
      "Calculadora de distancias entre planetas\n",
      "La distancia entre los planetas es: 3 millas\n"
     ]
    }
   ],
   "source": [
    "print(\"Calculadora de distancias entre planetas\")\n",
    "dis1 = int(input(\"Ingrese la distancia al sol del primer planeta (km): \"))\n",
    "dis2 = int(input(\"Ingrese la distancia al sol del segundo planeta (km): \"))\n",
    "distance = round(abs(dis1-dis2) * 0.621)\n",
    "print(\"La distancia entre los planetas es: %i millas\" %distance)"
   ]
  }
 ],
 "metadata": {
  "interpreter": {
   "hash": "b89b5cfaba6639976dc87ff2fec6d58faec662063367e2c229c520fe71072417"
  },
  "kernelspec": {
   "display_name": "Python 3.10.2 64-bit",
   "language": "python",
   "name": "python3"
  },
  "language_info": {
   "codemirror_mode": {
    "name": "ipython",
    "version": 3
   },
   "file_extension": ".py",
   "mimetype": "text/x-python",
   "name": "python",
   "nbconvert_exporter": "python",
   "pygments_lexer": "ipython3",
   "version": "3.10.2"
  },
  "orig_nbformat": 4
 },
 "nbformat": 4,
 "nbformat_minor": 2
}
