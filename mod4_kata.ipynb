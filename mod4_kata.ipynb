{
 "cells": [
  {
   "cell_type": "markdown",
   "metadata": {},
   "source": [
    "## Ejercicio 1: transformar cadenas"
   ]
  },
  {
   "cell_type": "code",
   "execution_count": 8,
   "metadata": {},
   "outputs": [
    {
     "name": "stdout",
     "output_type": "stream",
     "text": [
      "\n",
      "On average, the Moon moves 4cm away from the Earth every year\n",
      "The highest daylight temperature of the Moon is 127 C.\n",
      "Interesting facts about the Moon. The Moon is Earth's only satellite. There are several interesting facts about the Moon and how it affects life here on Earth. \n",
      "On average, the Moon moves 4cm away from the Earth every year. This yearly drift is not significant enough to cause immediate effects on Earth. The highest daylight temperature of the Moon is 127 Celsius.\n"
     ]
    }
   ],
   "source": [
    "text = \"\"\"Interesting facts about the Moon. The Moon is Earth's only satellite. There are several interesting facts about the Moon and how it affects life here on Earth. \n",
    "On average, the Moon moves 4cm away from the Earth every year. This yearly drift is not significant enough to cause immediate effects on Earth. The highest daylight temperature of the Moon is 127 C.\"\"\"\n",
    "\n",
    "text.split(\". \") #División del texto por oraciones\n",
    "\n",
    "palabrasPistas = ('average', 'temperature', 'distance')\n",
    "for i in text.split(\". \"):\n",
    "    for j in palabrasPistas:\n",
    "        if j in i: print(i)\n",
    "\n",
    "text = text.replace(\"C\", \"Celsius\")\n",
    "print(text)"
   ]
  },
  {
   "cell_type": "markdown",
   "metadata": {},
   "source": [
    "## Ejercicio 2: Formateando cadenas"
   ]
  },
  {
   "cell_type": "code",
   "execution_count": 12,
   "metadata": {},
   "outputs": [
    {
     "name": "stdout",
     "output_type": "stream",
     "text": [
      "Gravity of the satellite Moon of the planet Earth\n",
      "--------------------------------------\n",
      "The gravity of the Moon is: 1.62 m/s^2\n",
      "\n",
      "Gravity of the satellite Moon of the planet Earth\n",
      "--------------------------------------\n",
      "The gravity of the Moon is: 1.62 m/s^2\n",
      "\n"
     ]
    }
   ],
   "source": [
    "# Datos con los que vas a trabajar\n",
    "name = \"Moon\"\n",
    "gravity = 0.00162 # in kms\n",
    "planet = \"Earth\"\n",
    "\n",
    "title = f'Gravity of the satellite {name} of the planet {planet}'\n",
    "content = f\"\"\"--------------------------------------\n",
    "The gravity of the {name} is: {round(gravity*1000,2)} m/s^2\"\"\"\n",
    "fact = f\"\"\"{title}\n",
    "{content}\\n\"\"\"\n",
    "print(fact)\n",
    "\n",
    "name = \"Ganímedes\"\n",
    "gravity = 0.00143\n",
    "planet = \"Mars\"\n",
    "print(fact)"
   ]
  },
  {
   "cell_type": "code",
   "execution_count": 16,
   "metadata": {},
   "outputs": [
    {
     "name": "stdout",
     "output_type": "stream",
     "text": [
      "\n",
      "Gravity of the satellite Moon of the planet Earth\n",
      "--------------------------------------\n",
      "The gravity of the Moon is: 1.62 m/s^2\n",
      "\n",
      "\n",
      "Gravity of the satellite Ganímedes of the planet Mars\n",
      "--------------------------------------\n",
      "The gravity of the Ganímedes is: 1.43 m/s^2\n",
      "\n"
     ]
    }
   ],
   "source": [
    "# Datos con los que vas a trabajar\n",
    "name = \"Moon\"\n",
    "gravity = 0.00162 # in kms\n",
    "planet = \"Earth\"\n",
    "\n",
    "template = \"\"\"\n",
    "Gravity of the satellite {name} of the planet {planet}\n",
    "--------------------------------------\n",
    "The gravity of the {name} is: {gravity} m/s^2\\n\"\"\"\n",
    "print(template.format(name=name, gravity=round(gravity*1000,2), planet=planet))\n",
    "\n",
    "name = \"Ganímedes\"\n",
    "gravity = 0.00143\n",
    "planet = \"Mars\"\n",
    "print(template.format(name=name, gravity=round(gravity*1000,2), planet=planet))"
   ]
  }
 ],
 "metadata": {
  "interpreter": {
   "hash": "b89b5cfaba6639976dc87ff2fec6d58faec662063367e2c229c520fe71072417"
  },
  "kernelspec": {
   "display_name": "Python 3.10.2 64-bit",
   "language": "python",
   "name": "python3"
  },
  "language_info": {
   "codemirror_mode": {
    "name": "ipython",
    "version": 3
   },
   "file_extension": ".py",
   "mimetype": "text/x-python",
   "name": "python",
   "nbconvert_exporter": "python",
   "pygments_lexer": "ipython3",
   "version": "3.10.2"
  },
  "orig_nbformat": 4
 },
 "nbformat": 4,
 "nbformat_minor": 2
}
