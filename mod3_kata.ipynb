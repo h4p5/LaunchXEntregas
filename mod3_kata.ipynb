{
 "cells": [
  {
   "cell_type": "markdown",
   "metadata": {},
   "source": [
    "## Ejercicio - Escribir declaraciones if, elif, else"
   ]
  },
  {
   "cell_type": "code",
   "execution_count": 5,
   "metadata": {},
   "outputs": [
    {
     "name": "stdout",
     "output_type": "stream",
     "text": [
      "Advertencia!! Asteroide veloz aproximandose\n"
     ]
    }
   ],
   "source": [
    "# Asteroide veloz\n",
    "maxvel = 25\n",
    "asteroidV = 49\n",
    "\n",
    "if asteroidV > maxvel:\n",
    "    print(\"Advertencia!! Asteroide veloz aproximandose\")\n",
    "else:\n",
    "    print(\"No problem :) \")"
   ]
  },
  {
   "cell_type": "code",
   "execution_count": 6,
   "metadata": {},
   "outputs": [
    {
     "name": "stdout",
     "output_type": "stream",
     "text": [
      "El cielo está vacío :c \n"
     ]
    }
   ],
   "source": [
    "# Asteroide destellante\n",
    "maxvel = 20\n",
    "asteroidV = 19\n",
    "\n",
    "if asteroidV >= maxvel:\n",
    "    print(\"Mira!! Hay un rayo de luz en el cielo!! :o\")\n",
    "else:\n",
    "    print(\"El cielo está vacío :c \")"
   ]
  },
  {
   "cell_type": "markdown",
   "metadata": {},
   "source": [
    "## Ejercicio - Uso de operadores and y or"
   ]
  },
  {
   "cell_type": "code",
   "execution_count": 14,
   "metadata": {},
   "outputs": [
    {
     "name": "stdout",
     "output_type": "stream",
     "text": [
      "Peligro!!! Hay un GRAN asteroide aproximandose!! D: \n",
      "Será visible como un rayo de luz desde la Tierra.\n",
      "Y viene a toda velocidad!!\n"
     ]
    }
   ],
   "source": [
    "minSize = 25\n",
    "maxSize = 1000\n",
    "asteroidSize = 30\n",
    "asteroidV = 30\n",
    "\n",
    "if asteroidSize > minSize and asteroidSize < maxSize:\n",
    "    print(\"Peligro!!! Hay un GRAN asteroide aproximandose!! D: \")\n",
    "    if asteroidV >= 20:\n",
    "        print(\"Será visible como un rayo de luz desde la Tierra.\")\n",
    "        if asteroidV > 25:\n",
    "            print(\"Y viene a toda velocidad!!\")\n",
    "    else:\n",
    "        print(\"Ingresará a la atmósfera lentamente.\")\n",
    "elif asteroidV >= 20:\n",
    "    print(\"Un asteroide será visible como un rayo de luz desde la Tierra, pero no entrará a la atmósfera.\")\n",
    "else:\n",
    "    print(\"Hay un asteroide aproximándose a la tierra, pero no hay nada que temer c: \")"
   ]
  }
 ],
 "metadata": {
  "interpreter": {
   "hash": "b89b5cfaba6639976dc87ff2fec6d58faec662063367e2c229c520fe71072417"
  },
  "kernelspec": {
   "display_name": "Python 3.10.2 64-bit",
   "language": "python",
   "name": "python3"
  },
  "language_info": {
   "codemirror_mode": {
    "name": "ipython",
    "version": 3
   },
   "file_extension": ".py",
   "mimetype": "text/x-python",
   "name": "python",
   "nbconvert_exporter": "python",
   "pygments_lexer": "ipython3",
   "version": "3.10.2"
  },
  "orig_nbformat": 4
 },
 "nbformat": 4,
 "nbformat_minor": 2
}
